{
 "cells": [
  {
   "cell_type": "code",
   "execution_count": 2,
   "id": "established-imperial",
   "metadata": {},
   "outputs": [
    {
     "name": "stdout",
     "output_type": "stream",
     "text": [
      "Время на выполнение функции = 1615372015.3729475\n",
      "Кол-во дубликвтов 0\n",
      "Время на выполнение функции = 3230744030.7501574\n",
      "Кол-во дубликвтов 0\n"
     ]
    }
   ],
   "source": [
    "import history\n",
    "from random import randint\n",
    "import os\n",
    "import time\n",
    "\n",
    "\n",
    "def generate_sequence(sequence):\n",
    "    for i in range(500):\n",
    "        sequence.append(randint(1,4))\n",
    "    return sequence\n",
    "\n",
    "def generate_score(score):\n",
    "    score = randint(1,5)\n",
    "    return score\n",
    "\n",
    "if __name__ == '__main__':\n",
    "    a = history.History()\n",
    "    start_time = time.time()\n",
    "    while True:\n",
    "        if os.path.getsize('file.txt') >= 3221225472:\n",
    "            print(f'Время на выполнение функции = {start_time}')\n",
    "            print(f'Кол-во дубликвтов {a.score_dupl}')\n",
    "            a.save_history('file.txt')\n",
    "            a.load_history('file.txt')\n",
    "            break\n",
    "        sequence = []\n",
    "        score = 0.0\n",
    "        sequence = generate_sequence(sequence)\n",
    "        score = generate_score(score)\n",
    "        a.set_history(sequence, score)\n",
    "    start_time_2 = time.time()\n",
    "    while True:\n",
    "        if os.path.getsize('file.txt') >= 5368709120:\n",
    "            print(f'Время на выполнение функции = {start_time_2 + start_time}')\n",
    "            print(f'Кол-во дубликвтов {a.score_dupl}')\n",
    "            a.save_history('file.txt')\n",
    "            a.load_history('file.txt')\n",
    "            break\n",
    "        sequence = []\n",
    "        score = 0.0\n",
    "        sequence = generate_sequence(sequence)\n",
    "        score = generate_score(score)\n",
    "        a.set_history(sequence, score)\n"
   ]
  },
  {
   "cell_type": "code",
   "execution_count": null,
   "id": "later-advance",
   "metadata": {},
   "outputs": [],
   "source": []
  },
  {
   "cell_type": "code",
   "execution_count": null,
   "id": "twenty-functionality",
   "metadata": {},
   "outputs": [],
   "source": []
  }
 ],
 "metadata": {
  "kernelspec": {
   "display_name": "Python 3",
   "language": "python",
   "name": "python3"
  },
  "language_info": {
   "codemirror_mode": {
    "name": "ipython",
    "version": 3
   },
   "file_extension": ".py",
   "mimetype": "text/x-python",
   "name": "python",
   "nbconvert_exporter": "python",
   "pygments_lexer": "ipython3",
   "version": "3.8.5"
  }
 },
 "nbformat": 4,
 "nbformat_minor": 5
}
